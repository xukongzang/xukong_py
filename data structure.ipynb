{
 "cells": [
  {
   "cell_type": "markdown",
   "metadata": {},
   "source": [
    "## 1.列表"
   ]
  },
  {
   "cell_type": "markdown",
   "metadata": {},
   "source": [
    "#简称：增删改查序\n",
    "2.列表包含表达式\n",
    "3.用extend()来合并列表 \"+\"拼接也可以\n",
    "\n",
    "4.用append()末尾追加\n",
    "5.用insert()特定位置插入\n",
    "6.用pop()删除，参数是索引\n",
    "7.用remove()删除，参数是值\n",
    "1.用[]索引或者切片进行 赋值修改或查找\n",
    "10.用index()返回索引，参数是值\n",
    "8.用reverse()转置 或者[::-1]\n",
    "9.用sort()排序\n"
   ]
  },
  {
   "cell_type": "code",
   "execution_count": 19,
   "metadata": {
    "scrolled": true
   },
   "outputs": [
    {
     "name": "stdout",
     "output_type": "stream",
     "text": [
      "[7, 8, 9]\n",
      "[1, 2]\n"
     ]
    }
   ],
   "source": [
    "#1.列表的创建\n",
    "a = [1, 2, 3.14, 'hello', [7,8,9] ]\n",
    "print(a[-1])\n",
    "print(a[:2])"
   ]
  },
  {
   "cell_type": "code",
   "execution_count": 5,
   "metadata": {},
   "outputs": [
    {
     "name": "stdout",
     "output_type": "stream",
     "text": [
      "[1, 2, 3.14, 'hello', [7, 8, 9]]\n",
      "[1, 2, 3.14, 'hello', [7, 8, '你好']]\n"
     ]
    }
   ],
   "source": [
    "#1.1改变列表内容\n",
    "a = [1, 2, 3.14, 'hello', [7,8,9] ]\n",
    "print(a)\n",
    "\n",
    "a[-1][-1] = '你好'\n",
    "print(a)"
   ]
  },
  {
   "cell_type": "code",
   "execution_count": null,
   "metadata": {},
   "outputs": [],
   "source": [
    "#1.2切片赋值\n",
    "list1 = [0, 1, 2, 3, 4, 5]\n",
    "list1[1:4] = ['a','b','c']\n",
    "print(list1)"
   ]
  },
  {
   "cell_type": "code",
   "execution_count": 7,
   "metadata": {},
   "outputs": [
    {
     "name": "stdout",
     "output_type": "stream",
     "text": [
      "[1, 2, 3.14, 'hello', 200]\n"
     ]
    }
   ],
   "source": [
    "#2.添加变量,表达式\n",
    "var = 100\n",
    "a = [1, 2, 3.14, 'hello', var*2]\n",
    "print(a)"
   ]
  },
  {
   "cell_type": "code",
   "execution_count": 5,
   "metadata": {},
   "outputs": [
    {
     "name": "stdout",
     "output_type": "stream",
     "text": [
      "[1, 2, 3, 4, 5, 6]\n"
     ]
    }
   ],
   "source": [
    "#3.合并列表\n",
    "a = [1,2,3]\n",
    "b = [4,5,6]\n",
    "a.extend(b)\n",
    "print(a)"
   ]
  },
  {
   "cell_type": "markdown",
   "metadata": {},
   "source": [
    "### 1.2 列表的方法"
   ]
  },
  {
   "cell_type": "code",
   "execution_count": 42,
   "metadata": {},
   "outputs": [
    {
     "name": "stdout",
     "output_type": "stream",
     "text": [
      "[1, 2, 3.14, 'hello', '你好']\n",
      "[1, 2, 3.14, 'hello', '你好', [7, 8]]\n"
     ]
    }
   ],
   "source": [
    "# 4.末尾追加 append()\n",
    "a = [1, 2, 3.14, 'hello']  \n",
    "a.append('你好')\n",
    "print(a)\n",
    "a.append([7,8])\n",
    "print(a)"
   ]
  },
  {
   "cell_type": "code",
   "execution_count": 1,
   "metadata": {},
   "outputs": [
    {
     "name": "stdout",
     "output_type": "stream",
     "text": [
      "[1, 2, '福涛', 3.14, 'python3.vip']\n"
     ]
    }
   ],
   "source": [
    "#5.固定位置插入 insert\n",
    "a = [1, 2, 3.14, 'python3.vip']  \n",
    "a.insert(2, '福涛')\n",
    "print(a)"
   ]
  },
  {
   "cell_type": "code",
   "execution_count": 44,
   "metadata": {},
   "outputs": [
    {
     "name": "stdout",
     "output_type": "stream",
     "text": [
      "[1, 2, 3.14]\n",
      "python3.vip\n"
     ]
    }
   ],
   "source": [
    "#6.删除一个元素 pop 参数是索引\n",
    "a = [1, 2, 3.14, 'python3.vip']  \n",
    "poped = a.pop(3)\n",
    "print(a)\n",
    "print(poped)"
   ]
  },
  {
   "cell_type": "code",
   "execution_count": 45,
   "metadata": {},
   "outputs": [
    {
     "name": "stdout",
     "output_type": "stream",
     "text": [
      "['b', 'c', 'a']\n"
     ]
    }
   ],
   "source": [
    "#7.删除一个元素 remove 参数是值\n",
    "var1 = ['a','b','c','a']\n",
    "var1.remove('a')\n",
    "print(var1)"
   ]
  },
  {
   "cell_type": "code",
   "execution_count": 7,
   "metadata": {},
   "outputs": [
    {
     "name": "stdout",
     "output_type": "stream",
     "text": [
      "[7, 6, 5, 4, 3, 2, 1]\n"
     ]
    }
   ],
   "source": [
    "#8.转置 reverse\n",
    "#转置\n",
    "var1 = [1,2,3,4,5,6,7]\n",
    "#var1.reverse()\n",
    "print(var1[::-1]) #从第一个数算起，往后倒着取数"
   ]
  },
  {
   "cell_type": "code",
   "execution_count": 4,
   "metadata": {},
   "outputs": [
    {
     "name": "stdout",
     "output_type": "stream",
     "text": [
      "after sort: ['Tom', 'Michale', 'Jerry', 'Alex', 'Alex']\n"
     ]
    }
   ],
   "source": [
    "#9.排序 sort\n",
    "students = ['Alex','Tom','Jerry','Michale','Alex']\n",
    "students.sort(reverse = True)\n",
    "print(f'after sort: {students}')"
   ]
  },
  {
   "cell_type": "code",
   "execution_count": 48,
   "metadata": {},
   "outputs": [
    {
     "name": "stdout",
     "output_type": "stream",
     "text": [
      "2\n"
     ]
    }
   ],
   "source": [
    "#10.返回索引 index \n",
    "var1 = ['a','b','c','e']\n",
    "idx = var1.index('c')\n",
    "print(idx)"
   ]
  },
  {
   "cell_type": "markdown",
   "metadata": {},
   "source": [
    "## 2.元组"
   ]
  },
  {
   "cell_type": "code",
   "execution_count": 20,
   "metadata": {},
   "outputs": [
    {
     "name": "stdout",
     "output_type": "stream",
     "text": [
      "(1, 2, 3.14, 'hello')\n"
     ]
    }
   ],
   "source": [
    "#元组是不能修改的列表,圆括号或者不用括号\n",
    "a = 1, 2, 3.14, 'hello'\n",
    "print(a)"
   ]
  },
  {
   "cell_type": "code",
   "execution_count": 16,
   "metadata": {},
   "outputs": [
    {
     "name": "stdout",
     "output_type": "stream",
     "text": [
      "hello 在列表中存在\n",
      "boy 在元组中不存在\n"
     ]
    }
   ],
   "source": [
    "#判断是否在列表元组中\n",
    "list1 = [1,2,3,4, 'hello']\n",
    "tuple1 = (1,2,3,4, 'hello')\n",
    "\n",
    "if 'hello' in list1:\n",
    "    print('hello 在列表中存在')\n",
    "\n",
    "if 'boy' not in tuple1:\n",
    "    print('boy 在元组中不存在')   "
   ]
  },
  {
   "cell_type": "code",
   "execution_count": 17,
   "metadata": {},
   "outputs": [
    {
     "name": "stdout",
     "output_type": "stream",
     "text": [
      "1 2\n",
      "李逵 33\n"
     ]
    }
   ],
   "source": [
    "#多变量同时赋值，用元组或者列表来实现\n",
    "x,y = (1,2) \n",
    "print(x,y)   \n",
    "\n",
    "name, age = ['李逵', 33]\n",
    "print(name,age)"
   ]
  },
  {
   "cell_type": "code",
   "execution_count": 18,
   "metadata": {},
   "outputs": [
    {
     "name": "stdout",
     "output_type": "stream",
     "text": [
      "请输入年龄11\n",
      "请输入性别男\n"
     ]
    },
    {
     "data": {
      "text/plain": [
       "('11', '男')"
      ]
     },
     "execution_count": 18,
     "metadata": {},
     "output_type": "execute_result"
    }
   ],
   "source": [
    "#函数返回元组\n",
    "def func1():\n",
    "    age = input('请输入年龄')\n",
    "    gender = input('请输入性别')\n",
    "    return  age,gender\n",
    "func1()"
   ]
  },
  {
   "cell_type": "markdown",
   "metadata": {},
   "source": [
    "### 3.字典"
   ]
  },
  {
   "cell_type": "code",
   "execution_count": 29,
   "metadata": {},
   "outputs": [
    {
     "name": "stdout",
     "output_type": "stream",
     "text": [
      "{'account1': 13, 'account2': 12, 'account3': 14}\n"
     ]
    }
   ],
   "source": [
    "#创建一个字典，字典的键通常是是 数字 或者 字符串\n",
    "members = {\n",
    "    'account1'  : 13 ,\n",
    "    'account2'  : 12 \n",
    "}\n",
    "members['account3'] = 14\n",
    "print(members)"
   ]
  },
  {
   "cell_type": "code",
   "execution_count": 30,
   "metadata": {},
   "outputs": [
    {
     "name": "stdout",
     "output_type": "stream",
     "text": [
      "{'account3': 14}\n"
     ]
    }
   ],
   "source": [
    "#删除元素\n",
    "members = {\n",
    "    'account1'  : 13 ,\n",
    "    'account2'  : 12 ,\n",
    "    'account3'  : 14\n",
    "}\n",
    "members.pop('account1')\n",
    "del members['account2']\n",
    "print(members)"
   ]
  },
  {
   "cell_type": "code",
   "execution_count": 37,
   "metadata": {},
   "outputs": [
    {
     "name": "stdout",
     "output_type": "stream",
     "text": [
      "{}\n"
     ]
    }
   ],
   "source": [
    "#清空列表\n",
    "members = {\n",
    "    'account1'  : 13 ,\n",
    "    'account2'  : 12 ,\n",
    "    'account3'  : 15 ,\n",
    "}\n",
    "\n",
    "members.clear()\n",
    "\n",
    "print(members)"
   ]
  },
  {
   "cell_type": "code",
   "execution_count": 31,
   "metadata": {},
   "outputs": [
    {
     "name": "stdout",
     "output_type": "stream",
     "text": [
      "account1 在字典中存在\n",
      "account88 不在字典中\n"
     ]
    }
   ],
   "source": [
    "#判断元素是否在字典中\n",
    "members = {\n",
    "    'account1'  : 13 ,\n",
    "    'account2'  : 12 \n",
    "}\n",
    "\n",
    "if 'account1' in members:\n",
    "    print('account1 在字典中存在')\n",
    "\n",
    "if 'account88' not in members:\n",
    "    print('account88 不在字典中')"
   ]
  },
  {
   "cell_type": "code",
   "execution_count": 32,
   "metadata": {},
   "outputs": [
    {
     "name": "stdout",
     "output_type": "stream",
     "text": [
      "account:account1, level:13\n",
      "account:account2, level:12\n",
      "account:account3, level:15\n"
     ]
    }
   ],
   "source": [
    "#调用所有元素\n",
    "members = {\n",
    "    'account1'  : 13 ,\n",
    "    'account2'  : 12 ,\n",
    "    'account3'  : 15 ,\n",
    "}\n",
    "\n",
    "for account,level in members.items():\n",
    "    print (f'account:{account}, level:{level}')"
   ]
  },
  {
   "cell_type": "code",
   "execution_count": 36,
   "metadata": {},
   "outputs": [
    {
     "data": {
      "text/plain": [
       "dict_values([13, 12, 15])"
      ]
     },
     "execution_count": 36,
     "metadata": {},
     "output_type": "execute_result"
    }
   ],
   "source": [
    "members = {\n",
    "    'account1'  : 13 ,\n",
    "    'account2'  : 12 ,\n",
    "    'account3'  : 15 ,\n",
    "}\n",
    "\n",
    "#members.items()\n",
    "#members.keys()\n",
    "members.values()"
   ]
  },
  {
   "cell_type": "code",
   "execution_count": 38,
   "metadata": {},
   "outputs": [
    {
     "name": "stdout",
     "output_type": "stream",
     "text": [
      "{'account1': 13, 'account2': 12, 'account3': 15, 'account4': 13, 'account5': 12}\n"
     ]
    }
   ],
   "source": [
    "#字典合并\n",
    "members = {\n",
    "    'account1'  : 13 ,\n",
    "    'account2'  : 12 ,\n",
    "    'account3'  : 15 ,\n",
    "}\n",
    "\n",
    "another =  {\n",
    "    'account4'  : 13 ,\n",
    "    'account5'  : 12 ,\n",
    "}\n",
    "\n",
    "members.update(another)\n",
    "\n",
    "print(members)"
   ]
  },
  {
   "cell_type": "code",
   "execution_count": 39,
   "metadata": {},
   "outputs": [
    {
     "name": "stdout",
     "output_type": "stream",
     "text": [
      "3\n"
     ]
    }
   ],
   "source": [
    "#得到字典元素的个数\n",
    "members = {\n",
    "    'account1'  : 13 ,\n",
    "    'account2'  : 12 ,\n",
    "    'account3'  : 15 ,\n",
    "}\n",
    "\n",
    "\n",
    "print(len(members))"
   ]
  }
 ],
 "metadata": {
  "kernelspec": {
   "display_name": "Python 3",
   "language": "python",
   "name": "python3"
  },
  "language_info": {
   "codemirror_mode": {
    "name": "ipython",
    "version": 3
   },
   "file_extension": ".py",
   "mimetype": "text/x-python",
   "name": "python",
   "nbconvert_exporter": "python",
   "pygments_lexer": "ipython3",
   "version": "3.7.6"
  }
 },
 "nbformat": 4,
 "nbformat_minor": 4
}
